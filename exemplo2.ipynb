{
 "cells": [
  {
   "cell_type": "markdown",
   "id": "434fb4a1",
   "metadata": {},
   "source": [
    "Python Notebook"
   ]
  },
  {
   "cell_type": "code",
   "execution_count": null,
   "id": "249c2e19",
   "metadata": {},
   "outputs": [],
   "source": [
    "print(\"Hello World\")"
   ]
  }
 ],
 "metadata": {
  "language_info": {
   "name": "python"
  }
 },
 "nbformat": 4,
 "nbformat_minor": 5
}
